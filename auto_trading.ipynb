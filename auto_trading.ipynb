{
 "cells": [
  {
   "cell_type": "code",
   "execution_count": null,
   "metadata": {
    "vscode": {
     "languageId": "plaintext"
    }
   },
   "outputs": [],
   "source": [
    "# MySQL 커맨드에 CREATE DATABASE trading_db;\n",
    "import keyring\n",
    "import requests\n",
    "import json\n",
    "import time\n",
    "import matplotlib.pyplot as plt\n",
    "from random_strategy import run_random_trading\n",
    "\n",
    "# 모의계좌\n",
    "keyring.set_password('mock_app_key', '최진혁', 'PSLFAmT3ZUpSMEI...')\n",
    "keyring.set_password('mock_app_secret', '최진혁', '5oIHeZMayiA01G7ObSwYLc5...')\n",
    "\n",
    "# Matplotlib 인터랙티브 모드 활성화 (실시간 업데이트)\n",
    "plt.ion()\n",
    "\n",
    "# 🔹 MySQL 연결 정보\n",
    "db_config = {\n",
    "    \"host\": \"localhost\",\n",
    "    \"user\": \"root\",\n",
    "    \"password\": \"your_password\", #비밀번호 입력\n",
    "    \"database\": \"trading_db\",\n",
    "    \"charset\": \"utf8mb4\"\n",
    "}\n",
    "TRADE_TABLE_NAME = \"trade_history\"\n",
    "\n",
    "# 🔹 API Key 설정 (모의계좌)\n",
    "app_key = keyring.get_password('mock_app_key', '최진혁')\n",
    "app_secret = keyring.get_password('mock_app_secret', '최진혁')\n",
    "\n",
    "# 🔹 모의투자 API 기본 URL\n",
    "url_base = \"https://openapivts.koreainvestment.com:29443\"\n",
    "\n",
    "# 🔹 접근토큰 발급\n",
    "headers = {\"content-type\": \"application/json\"}\n",
    "path = \"oauth2/tokenP\"\n",
    "body = {\n",
    "    \"grant_type\": \"client_credentials\",\n",
    "    \"appkey\": app_key,\n",
    "    \"appsecret\": app_secret\n",
    "}\n",
    "url = f\"{url_base}/{path}\"\n",
    "\n",
    "res = requests.post(url, headers=headers, data=json.dumps(body))\n",
    "access_token = res.json().get('access_token', '')\n",
    "print(f\"발급된 액세스 토큰: {access_token}\")\n",
    "\n",
    "# 한글 폰트 설정 (Windows)\n",
    "plt.rcParams['font.family'] = 'Malgun Gothic'\n",
    "plt.rcParams['axes.unicode_minus'] = False\n",
    "\n",
    "# 🔹 랜덤 자동매매 실행\n",
    "run_random_trading(url_base, access_token, app_key, app_secret, db_config, TRADE_TABLE_NAME)"
   ]
  }
 ],
 "metadata": {
  "kernelspec": {
   "display_name": "sql_test_env",
   "language": "python",
   "name": "python3"
  },
  "language_info": {
   "codemirror_mode": {
    "name": "ipython",
    "version": 3
   },
   "file_extension": ".py",
   "mimetype": "text/x-python",
   "name": "python",
   "nbconvert_exporter": "python",
   "pygments_lexer": "ipython3",
   "version": "3.12.9"
  }
 },
 "nbformat": 4,
 "nbformat_minor": 2
}
