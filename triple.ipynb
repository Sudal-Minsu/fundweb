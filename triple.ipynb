{
 "cells": [
  {
   "cell_type": "code",
   "execution_count": null,
   "id": "fca008a6",
   "metadata": {},
   "outputs": [
    {
     "name": "stdout",
     "output_type": "stream",
     "text": [
      "🟢 기존 토큰 재사용 중 (파일)\n"
     ]
    }
   ],
   "source": [
    "import time\n",
    "from config_ko import DB_CONFIG, ACCOUNT_INFO\n",
    "from functions import check_account, get_auth_info, get_current_price, execute_order\n",
    "import os, datetime as dt\n",
    "import pandas as pd\n",
    "import matplotlib.pyplot as plt\n",
    "from datetime import datetime\n",
    "\n",
    "BASE_DIR   = \"results_3\"\n",
    "CSV_PATH   = os.path.join(BASE_DIR, \"account_log.csv\")\n",
    "OUT_EQUITY = os.path.join(BASE_DIR, \"총평가금액_추세.png\")\n",
    "OUT_RET    = os.path.join(BASE_DIR, \"수익률_추세.png\")\n",
    "os.makedirs(BASE_DIR, exist_ok=True)\n",
    "START_CAPITAL = 100_000_000  # 초기 투자금\n",
    "app_key, app_secret, access_token = get_auth_info()"
   ]
  },
  {
   "cell_type": "code",
   "execution_count": null,
   "id": "4e36a718",
   "metadata": {},
   "outputs": [
    {
     "name": "stdout",
     "output_type": "stream",
     "text": [
      "📡 응답 상태코드: 200\n",
      "     종목코드  보유수량    매입단가     현재가        변동률\n",
      "0  005930    10   70000   72600   3.714286\n",
      "1  000660     5  280000  301500   7.678571\n",
      "2  035720     3   40000   59800  49.500000\n",
      "\n",
      "총평가금액: 102980558\n",
      "총수익률: 2.980558\n",
      "매수금액: 0\n",
      "현재 평가금액: 0\n",
      "평가 손익: 0\n",
      "예수금: 102980558\n"
     ]
    }
   ],
   "source": [
    "portfolio, account = check_account(access_token, app_key, app_secret)\n",
    "portfolio.loc[0] = ['005930', 10, 70000]   # 삼성전자\n",
    "portfolio.loc[1] = ['000660', 5, 280000]   # SK하이닉스\n",
    "portfolio.loc[2] = ['035720', 3, 40000]   # 카카오\n",
    "portfolio['현재가'] = portfolio['종목코드'].apply(\n",
    "    lambda code: (time.sleep(0.5), get_current_price(access_token, app_key, app_secret, code))[1]\n",
    ")\n",
    "portfolio['변동률'] = (portfolio['현재가'] - portfolio['매입단가']) / portfolio['매입단가'] * 100\n",
    "print(portfolio)\n",
    "print()\n",
    "print(\"총평가금액:\",int(account['tot_evlu_amt']))  \n",
    "print(\"총수익률:\", (int(account['tot_evlu_amt'])-100000000)/1000000)\n",
    "print(\"매수금액:\", int(account['pchs_amt_smtl_amt']))\n",
    "print(\"현재 평가금액:\", int(account['evlu_amt_smtl_amt']))\n",
    "print(\"평가 손익:\", int(account['evlu_pfls_smtl_amt']))\n",
    "print(\"예수금:\", int(account['tot_evlu_amt']) - int(account['scts_evlu_amt']))\n"
   ]
  },
  {
   "cell_type": "code",
   "execution_count": 139,
   "id": "9c134c6d",
   "metadata": {},
   "outputs": [
    {
     "name": "stdout",
     "output_type": "stream",
     "text": [
      "005930\n",
      "000660\n",
      "035720\n"
     ]
    }
   ],
   "source": [
    "for idx, row in portfolio.iterrows():\n",
    "\n",
    "    if row['변동률'] >= 3 or row['변동률'] <= -3:\n",
    "        print(row['종목코드'])\n",
    "        #execute_order(row['종목코드'], row['보유수량'], \"매도\", \"시장가\", app_key, app_secret, access_token)\n"
   ]
  },
  {
   "cell_type": "code",
   "execution_count": null,
   "id": "6f73c14c",
   "metadata": {},
   "outputs": [],
   "source": [
    "def log_account(account: dict):\n",
    "    today = dt.date.today().isoformat()\n",
    "    tot_evlu_amt = int(account['tot_evlu_amt'])\n",
    "    tot_ret = (tot_evlu_amt - START_CAPITAL) / 1_000_000\n",
    "    pchs_amt = int(account['pchs_amt_smtl_amt'])\n",
    "    cur_evlu_amt = int(account['evlu_amt_smtl_amt'])\n",
    "    pnl = int(account['evlu_pfls_smtl_amt'])\n",
    "    cash = int(account['tot_evlu_amt']) - int(account['scts_evlu_amt'])\n",
    "\n",
    "    row = [today, tot_evlu_amt, tot_ret, pchs_amt, cur_evlu_amt, pnl, cash]\n",
    "\n",
    "    file_exists = os.path.exists(CSV_PATH)\n",
    "    with open(CSV_PATH, \"a\", newline=\"\", encoding=\"utf-8-sig\") as f:\n",
    "        writer = csv.writer(f)\n",
    "        if not file_exists:\n",
    "            writer.writerow([\"날짜\",\"총평가금액\",\"총수익률\",\"매수금액\",\"현재평가금액\",\"평가손익\",\"예수금\"])\n",
    "        writer.writerow(row)\n",
    "\n",
    "    print(f\"계좌 정보 저장 완료: {row}\")\n",
    "log_account(account)"
   ]
  },
  {
   "cell_type": "code",
   "execution_count": 164,
   "id": "54a09ac3",
   "metadata": {},
   "outputs": [
    {
     "name": "stdout",
     "output_type": "stream",
     "text": [
      "저장: results_3\\총평가금액_추세_2025-09-01_2025-10-03.png\n",
      "저장: results_3\\수익률_추세_2025-09-01_2025-10-03.png\n"
     ]
    }
   ],
   "source": [
    "# 기간 설정(포함 범위)\n",
    "RANGE_START = \"2025-09-01\"\n",
    "RANGE_END   = \"2025-10-03\"\n",
    "\n",
    "def plot_equity_and_return_from_csv():\n",
    "    if not os.path.exists(CSV_PATH):\n",
    "        print(\"CSV가 없습니다:\", CSV_PATH)\n",
    "        return\n",
    "\n",
    "    import matplotlib.dates as mdates\n",
    "\n",
    "    # 폰트(윈도우 기준)\n",
    "    plt.rcParams['font.family'] = 'Malgun Gothic'\n",
    "    plt.rcParams['axes.unicode_minus'] = False\n",
    "\n",
    "    # 1) 데이터 읽기\n",
    "    df = pd.read_csv(CSV_PATH, encoding=\"utf-8-sig\")\n",
    "    if \"날짜\" not in df.columns or \"총평가금액\" not in df.columns:\n",
    "        raise ValueError(\"CSV에 '날짜', '총평가금액' 컬럼이 있어야 합니다.\")\n",
    "\n",
    "    df[\"날짜\"] = pd.to_datetime(df[\"날짜\"])\n",
    "    df = df.sort_values(\"날짜\").drop_duplicates(subset=[\"날짜\"], keep=\"last\")\n",
    "\n",
    "    # 2) 기간 필터 (포함)\n",
    "    start = pd.Timestamp(RANGE_START)\n",
    "    end   = pd.Timestamp(RANGE_END)\n",
    "    mask = (df[\"날짜\"] >= start) & (df[\"날짜\"] <= end)\n",
    "    df = df.loc[mask].copy()\n",
    "    if df.empty:\n",
    "        print(f\"선택된 기간({RANGE_START} ~ {RANGE_END})에 데이터가 없습니다.\")\n",
    "        return\n",
    "\n",
    "    # 3) 일단위 리샘플(결측일은 직전값으로 채움)\n",
    "    df = (df.set_index(\"날짜\")\n",
    "            .resample(\"D\")\n",
    "            .last()\n",
    "            .ffill()\n",
    "            .reset_index())\n",
    "\n",
    "    # 4) 수익률 파생\n",
    "    df[\"수익률_%\"]  = (df[\"총평가금액\"] / START_CAPITAL - 1.0) * 100.0\n",
    "    df[\"수익률_백만\"] = (df[\"총평가금액\"] - START_CAPITAL) / 1_000_000\n",
    "\n",
    "    # 마지막(오늘) 값\n",
    "    last_date   = df[\"날짜\"].iloc[-1]\n",
    "    last_equity = int(df[\"총평가금액\"].iloc[-1])\n",
    "    last_ret_pct = df[\"수익률_%\"].iloc[-1]\n",
    "    last_ret_mil = df[\"수익률_백만\"].iloc[-1]\n",
    "\n",
    "    # X축 포맷러(날짜 간결 표시)\n",
    "    locator = mdates.AutoDateLocator()\n",
    "    formatter = mdates.ConciseDateFormatter(locator)\n",
    "\n",
    "    # ── [A] 총평가금액 ──\n",
    "    fig = plt.figure(figsize=(11, 6.5))\n",
    "    fig.suptitle(\n",
    "        f\"총평가금액 추세 ({RANGE_START} ~ {RANGE_END}) | \"\n",
    "        f\"마지막 {last_date.date()}  총평가금액 {last_equity:,.0f}원  \"\n",
    "        f\"수익률 {last_ret_pct:+.2f}% ({last_ret_mil:+.2f} 백만)\",\n",
    "        fontsize=13, fontweight=\"bold\", y=0.98\n",
    "    )\n",
    "    ax = plt.gca()\n",
    "    ax.plot(df[\"날짜\"], df[\"총평가금액\"], marker=\"o\", linewidth=1.8, label=\"총평가금액\")\n",
    "    ax.scatter([last_date], [last_equity], s=50)\n",
    "    ax.text(last_date, last_equity, f\" {last_equity:,.0f}원\",\n",
    "            va=\"bottom\", ha=\"left\", fontsize=10)\n",
    "\n",
    "    ax.grid(True, alpha=0.35)\n",
    "    ax.set_xlabel(\"날짜\")\n",
    "    ax.set_ylabel(\"총평가금액 (원)\")\n",
    "    ax.set_xlim(start, end)\n",
    "    ax.xaxis.set_major_locator(locator)\n",
    "    ax.xaxis.set_major_formatter(formatter)\n",
    "\n",
    "    plt.tight_layout(rect=[0, 0, 1, 0.93])\n",
    "    out_equity = os.path.join(BASE_DIR, f\"총평가금액_추세_{RANGE_START}_{RANGE_END}.png\")\n",
    "    plt.savefig(out_equity, dpi=200)\n",
    "    plt.close()\n",
    "    print(\"저장:\", out_equity)\n",
    "\n",
    "    # ── [B] 수익률(%) ──\n",
    "    plt.figure(figsize=(11, 6.5))\n",
    "    plt.title(f\"수익률(%) 추세 ({RANGE_START} ~ {RANGE_END})\")\n",
    "    plt.plot(df[\"날짜\"], df[\"수익률_%\"], marker=\"o\", linewidth=1.8, label=\"수익률(%)\")\n",
    "    plt.scatter([last_date], [last_ret_pct], s=50)\n",
    "    plt.text(last_date, last_ret_pct, f\" {last_ret_pct:+.2f}%\",\n",
    "             va=\"bottom\", ha=\"left\", fontsize=10)\n",
    "\n",
    "    plt.grid(True, alpha=0.35)\n",
    "    plt.xlabel(\"날짜\")\n",
    "    plt.ylabel(\"수익률 (%)\")\n",
    "    plt.xlim(start, end)\n",
    "    ax = plt.gca()\n",
    "    ax.xaxis.set_major_locator(locator)\n",
    "    ax.xaxis.set_major_formatter(formatter)\n",
    "\n",
    "    plt.tight_layout()\n",
    "    out_ret = os.path.join(BASE_DIR, f\"수익률_추세_{RANGE_START}_{RANGE_END}.png\")\n",
    "    plt.savefig(out_ret, dpi=200)\n",
    "    plt.close()\n",
    "    print(\"저장:\", out_ret)\n",
    "plot_equity_and_return_from_csv()"
   ]
  }
 ],
 "metadata": {
  "kernelspec": {
   "display_name": "base",
   "language": "python",
   "name": "python3"
  },
  "language_info": {
   "codemirror_mode": {
    "name": "ipython",
    "version": 3
   },
   "file_extension": ".py",
   "mimetype": "text/x-python",
   "name": "python",
   "nbconvert_exporter": "python",
   "pygments_lexer": "ipython3",
   "version": "3.11.5"
  }
 },
 "nbformat": 4,
 "nbformat_minor": 5
}
